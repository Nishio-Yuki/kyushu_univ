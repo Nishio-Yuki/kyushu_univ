{
 "cells": [
  {
   "cell_type": "markdown",
   "id": "4b888bf5-b52a-451e-a661-80ec08b46e7e",
   "metadata": {},
   "source": [
    "# 10xのデータをraw_dataから変換"
   ]
  },
  {
   "cell_type": "code",
   "execution_count": 2,
   "id": "136de4fc-bab7-4d71-840a-9ae5f576b1c7",
   "metadata": {},
   "outputs": [
    {
     "name": "stdout",
     "output_type": "stream",
     "text": [
      "Reading sparse matrix components...\n",
      "Reading features...\n"
     ]
    },
    {
     "data": {
      "application/vnd.jupyter.widget-view+json": {
       "model_id": "96fe72942987444ab313fa04b4b6bb6c",
       "version_major": 2,
       "version_minor": 0
      },
      "text/plain": [
       "feature_id:   0%|          | 0/31053 [00:00<?, ?it/s]"
      ]
     },
     "metadata": {},
     "output_type": "display_data"
    },
    {
     "data": {
      "application/vnd.jupyter.widget-view+json": {
       "model_id": "0421b77aab7a479c9bc17ae7bae1d524",
       "version_major": 2,
       "version_minor": 0
      },
      "text/plain": [
       "gene_name:   0%|          | 0/31053 [00:00<?, ?it/s]"
      ]
     },
     "metadata": {},
     "output_type": "display_data"
    },
    {
     "name": "stdout",
     "output_type": "stream",
     "text": [
      "Reading barcodes...\n"
     ]
    },
    {
     "data": {
      "application/vnd.jupyter.widget-view+json": {
       "model_id": "ba6ddad1c8534538b8a41eac61cf5557",
       "version_major": 2,
       "version_minor": 0
      },
      "text/plain": [
       "barcodes:   0%|          | 0/737280 [00:00<?, ?it/s]"
      ]
     },
     "metadata": {},
     "output_type": "display_data"
    },
    {
     "name": "stdout",
     "output_type": "stream",
     "text": [
      "Converting to DataFrame (CSR)...\n",
      "Building sparse DataFrame...\n",
      "Saving to: /work/kyushu_univ_lecture/10x/neuron_1k_v2_raw_feature_bc_matrix.pkl.gz\n",
      "wrote: /work/kyushu_univ_lecture/10x/neuron_1k_v2_raw_feature_bc_matrix.pkl.gz\n",
      "shape (genes, cells) = (31053, 737281)\n"
     ]
    }
   ],
   "source": [
    "import h5py, gzip, csv\n",
    "import numpy as np\n",
    "import pandas as pd\n",
    "import scipy.sparse as sp\n",
    "from tqdm.auto import tqdm\n",
    "from pathlib import Path\n",
    "\n",
    "def read_10x_h5_to_sparse_with_progress(h5_path):\n",
    "    \"\"\"\n",
    "    10x Genomics の raw_feature_bc_matrix.h5 を読み込み，CSC スパース行列と各種IDを返す（tqdmつき）．\n",
    "    \"\"\"\n",
    "    with h5py.File(h5_path, \"r\") as f:\n",
    "        g = f[\"matrix\"]\n",
    "\n",
    "        tqdm.write(\"Reading sparse matrix components...\")\n",
    "        data    = g[\"data\"][:]\n",
    "        indices = g[\"indices\"][:]\n",
    "        indptr  = g[\"indptr\"][:]\n",
    "        shape   = tuple(g[\"shape\"][:])\n",
    "\n",
    "        X = sp.csc_matrix((data, indices, indptr), shape=shape)  # shape: (genes × cells)\n",
    "\n",
    "        tqdm.write(\"Reading features...\")\n",
    "        feats = g[\"features\"]\n",
    "        feature_ids = [x.decode() if isinstance(x, bytes) else str(x) for x in tqdm(feats[\"id\"], desc=\"feature_id\")]\n",
    "        gene_names  = [x.decode() if isinstance(x, bytes) else str(x) for x in tqdm(feats[\"name\"], desc=\"gene_name\")]\n",
    "\n",
    "        tqdm.write(\"Reading barcodes...\")\n",
    "        barcodes = [x.decode() if isinstance(x, bytes) else str(x) for x in tqdm(g[\"barcodes\"], desc=\"barcodes\")]\n",
    "\n",
    "    return X, feature_ids, gene_names, barcodes\n",
    "\n",
    "def to_pickle_like_legacy(X_csc, feature_ids, barcodes, out_path):\n",
    "    \"\"\"\n",
    "    Geneformer風の pickle format に変換（列＝細胞，行＝遺伝子）．\n",
    "    \"\"\"\n",
    "    tqdm.write(\"Converting to DataFrame (CSR)...\")\n",
    "    X_csr = X_csc.tocsr()\n",
    "\n",
    "    tqdm.write(\"Building sparse DataFrame...\")\n",
    "    df = pd.DataFrame.sparse.from_spmatrix(X_csr)\n",
    "    df.columns = barcodes\n",
    "    df.insert(0, \"feature_id\", feature_ids)\n",
    "\n",
    "    tqdm.write(f\"Saving to: {out_path}\")\n",
    "    df.to_pickle(out_path, compression=\"gzip\")\n",
    "\n",
    "    return df.shape\n",
    "\n",
    "# 例：使い方\n",
    "in_path  = Path(\"/work/kyushu_univ_lecture/10x/neuron_1k_v2_raw_feature_bc_matrix.h5\")\n",
    "out_path = in_path.with_suffix(\".pkl.gz\")\n",
    "\n",
    "X, feature_ids, gene_names, barcodes = read_10x_h5_to_sparse_with_progress(str(in_path))\n",
    "shape = to_pickle_like_legacy(X, feature_ids, barcodes, str(out_path))\n",
    "\n",
    "print(\"wrote:\", out_path)\n",
    "print(\"shape (genes, cells) =\", shape)"
   ]
  },
  {
   "cell_type": "code",
   "execution_count": 5,
   "id": "b2cc0c0f-7c28-4a0f-84e1-caf7d6e2056f",
   "metadata": {},
   "outputs": [],
   "source": [
    "import sys, time\n",
    "import numpy as np, pandas as pd, scipy.sparse as sp, scanpy as sc\n",
    "from pathlib import Path\n",
    "import matplotlib.pyplot as plt\n",
    "from typing import Union, Optional\n",
    "from tqdm.notebook import tqdm\n",
    "\n",
    "# ---- ログユーティリティ ----\n",
    "_t0 = time.perf_counter()\n",
    "def log(msg):\n",
    "    now = time.perf_counter() - _t0\n",
    "    print(f\"[{now:8.2f}s] {msg}\")\n",
    "    sys.stdout.flush()\n",
    "\n",
    "# ---------- 入力を AnnData に統一（.pkl は絶対に densify しない） ----------\n",
    "def load_to_adata(input_obj: Union[str, Path, sc.AnnData, pd.DataFrame]):\n",
    "    if isinstance(input_obj, sc.AnnData):\n",
    "        ad = input_obj\n",
    "        if \"counts\" not in ad.layers:\n",
    "            ad.layers[\"counts\"] = ad.X.copy()\n",
    "        return ad\n",
    "\n",
    "    if isinstance(input_obj, pd.DataFrame):\n",
    "        log(\"DataFrame→AnnData 変換開始\")\n",
    "        df = input_obj\n",
    "        feat = df.iloc[:, 0].astype(str).values\n",
    "        # ★ SparseDataFrame を想定し，COO→CSR に変換（densify回避）\n",
    "        mat_df = df.iloc[:, 1:]\n",
    "        if hasattr(mat_df, \"sparse\"):\n",
    "            X = mat_df.sparse.to_coo().tocsr()\n",
    "        else:\n",
    "            X = sp.csr_matrix(mat_df.values)  # 最悪ここで densify\n",
    "        # 向きは (genes, cells) と仮定→転置\n",
    "        X = X.T\n",
    "        ad = sc.AnnData(X)\n",
    "        ad.var_names = feat\n",
    "        ad.obs_names = mat_df.columns.astype(str)\n",
    "        ad.layers[\"counts\"] = ad.X.copy()\n",
    "        log(f\"DataFrame→AnnData 完了：shape={ad.shape}\")\n",
    "        return ad\n",
    "\n",
    "    path = str(input_obj)\n",
    "    if path.endswith(\".h5ad\"):\n",
    "        log(f\"read_h5ad 開始: {path}\")\n",
    "        ad = sc.read_h5ad(path)\n",
    "        if \"counts\" not in ad.layers:\n",
    "            ad.layers[\"counts\"] = ad.X.copy()\n",
    "        log(f\"read_h5ad 完了：shape={ad.shape}\")\n",
    "        return ad\n",
    "\n",
    "    if path.endswith(\".pkl\") or path.endswith(\".pkl.gz\"):\n",
    "        log(f\"read_pickle 開始: {path}\")\n",
    "        df = pd.read_pickle(path)\n",
    "        log(\"read_pickle 完了\")\n",
    "        # 先頭列（遺伝子）＋残り（細胞）\n",
    "        feat = df.iloc[:, 0].astype(str).values\n",
    "        barcodes = df.columns[1:].astype(str).values\n",
    "        mat_df = df.iloc[:, 1:]\n",
    "\n",
    "        # ★ ここが重要：pandas Sparse を COOrdinate で取り出して scipy.sparse に直す\n",
    "        if hasattr(mat_df, \"sparse\"):\n",
    "            log(\"DataFrame.sparse.to_coo() → CSR 変換開始\")\n",
    "            X = mat_df.sparse.to_coo().tocsr()  # shape: (genes, cells)\n",
    "        else:\n",
    "            log(\"警告: densify の可能性あり（.sparse が無い）\")\n",
    "            X = sp.csr_matrix(mat_df.values)\n",
    "\n",
    "        # 向き自動判定\n",
    "        if X.shape[0] == len(feat) and X.shape[1] == len(barcodes):\n",
    "            Xt = X.T  # (cells, genes)\n",
    "            obs_names, var_names = barcodes, feat\n",
    "        elif X.shape[1] == len(feat) and X.shape[0] == len(barcodes):\n",
    "            Xt = X    # 既に (cells, genes)\n",
    "            obs_names, var_names = barcodes, feat\n",
    "        else:\n",
    "            raise ValueError(f\"形状不一致：feat={len(feat):,}，mat={X.shape}，barcodes={len(barcodes):,}\")\n",
    "\n",
    "        # 重複名対策（必要ならユニーク化）\n",
    "        var_idx = pd.Index(var_names).astype(str)\n",
    "        if var_idx.has_duplicates:\n",
    "            var_idx = (var_idx + pd.Series(range(len(var_idx))).astype(str).values)\n",
    "        obs_idx = pd.Index(obs_names).astype(str)\n",
    "        if obs_idx.has_duplicates:\n",
    "            obs_idx = (obs_idx + pd.Series(range(len(obs_idx))).astype(str).values)\n",
    "\n",
    "        ad = sc.AnnData(Xt)\n",
    "        ad.obs_names = obs_idx\n",
    "        ad.var_names = var_idx\n",
    "        ad.layers[\"counts\"] = ad.X.copy()\n",
    "        log(f\".pkl 読み込み→AnnData 完了：shape={ad.shape}，sparse={sp.issparse(ad.layers['counts'])}\")\n",
    "        return ad\n",
    "\n",
    "    if path.endswith(\".h5\"):\n",
    "        log(f\"10x .h5 読み込み開始: {path}\")\n",
    "        ad = sc.read_10x_h5(path)\n",
    "        ad.layers[\"counts\"] = ad.X.copy()\n",
    "        log(f\"10x .h5 読み込み完了：shape={ad.shape}\")\n",
    "        return ad\n",
    "\n",
    "    raise ValueError(\"Unsupported input: \" + path)\n",
    "\n",
    "# ---- チャンク生成 ----\n",
    "def _chunk_ranges(n: int, chunk_size: int):\n",
    "    for i in range(0, n, chunk_size):\n",
    "        yield slice(i, min(i + chunk_size, n))\n",
    "\n",
    "# ---- tqdm 付き compute_qc（心拍ログあり）----\n",
    "def compute_qc(ad: sc.AnnData, force: bool = False, show_progress: bool = True, chunk_size: int = 50_000) -> sc.AnnData:\n",
    "    log(\"compute_qc 開始\")\n",
    "    needed = [\"n_counts\", \"n_genes_by_counts\", \"mt_counts\"]\n",
    "    if not force and all(col in ad.obs.columns for col in needed):\n",
    "        log(\"既存 QC 列を流用（再計算なし）\")\n",
    "        return ad\n",
    "    if \"counts\" not in ad.layers:\n",
    "        raise KeyError(\"ad.layers['counts'] が見つかりません．\")\n",
    "\n",
    "    X = ad.layers[\"counts\"]\n",
    "    is_sparse = sp.issparse(X)\n",
    "    X = X.tocsr() if is_sparse else np.asarray(X)\n",
    "    n_cells, n_genes = X.shape\n",
    "    log(f\"counts 取得：sparse={is_sparse}，shape={n_cells:,}×{n_genes:,}\")\n",
    "\n",
    "    # ---- MT フラグ作成（NumPyベースで安定）----\n",
    "    if \"symbol\" in ad.var.columns:\n",
    "        var_names = ad.var[\"symbol\"].astype(str).to_numpy()\n",
    "    else:\n",
    "        var_names = np.asarray(ad.var_names).astype(str)\n",
    "    mt_flag = np.char.startswith(np.char.upper(var_names), \"MT-\")\n",
    "    mt_any  = bool(mt_flag.any())\n",
    "    log(f\"MT フラグ作成：mt_any={mt_any}\")\n",
    "\n",
    "    n_counts = np.zeros(n_cells, dtype=np.float64)\n",
    "    n_genes_by_counts = np.zeros(n_cells, dtype=np.int32)\n",
    "    mt_counts = np.zeros(n_cells, dtype=np.float64)\n",
    "\n",
    "    if is_sparse:\n",
    "        it = list(_chunk_ranges(n_cells, chunk_size))\n",
    "        pbar = tqdm(it, desc=f\"QC（sparse）cells={n_cells:,}\", unit=\"chunk\") if show_progress else it\n",
    "        last_hb = time.perf_counter()\n",
    "        for k, sl in enumerate(pbar):\n",
    "            Xs = X[sl]\n",
    "            n_counts[sl] = np.asarray(Xs.sum(axis=1)).ravel()\n",
    "            n_genes_by_counts[sl] = np.diff(Xs.indptr).astype(np.int32)\n",
    "            if mt_any:\n",
    "                mt_counts[sl] = np.asarray(Xs[:, mt_flag].sum(axis=1)).ravel()\n",
    "            else:\n",
    "                mt_counts[sl] = 0.0\n",
    "            now = time.perf_counter()\n",
    "            if now - last_hb > 5:\n",
    "                log(f\"進捗: chunk {k+1}/{len(it)}（cells ~{sl.stop:,}）\")\n",
    "                last_hb = now\n",
    "    else:\n",
    "        log(\"dense 経路で集計\")\n",
    "        n_counts[:] = X.sum(axis=1).astype(np.float64)\n",
    "        n_genes_by_counts[:] = (X > 0).sum(axis=1).astype(np.int32)\n",
    "        mt_counts[:] = (X[:, mt_flag].sum(axis=1).astype(np.float64) if mt_any else 0.0)\n",
    "\n",
    "    ad.obs[\"n_counts\"] = n_counts\n",
    "    ad.obs[\"n_genes_by_counts\"] = n_genes_by_counts\n",
    "    ad.obs[\"mt_counts\"] = mt_counts\n",
    "    log(\"compute_qc 完了\")\n",
    "    return ad\n",
    "\n",
    "\n",
    "# ---- フィルタ ----\n",
    "def filter_by_original_spec(\n",
    "    ad: sc.AnnData,\n",
    "    min_genes: int = 7,\n",
    "    total_cap: int = 20_000,\n",
    "    write_loom: Optional[Union[str, Path]] = None,\n",
    "    write_h5ad: Optional[Union[str, Path]] = None,\n",
    "    verbose: bool = True,\n",
    "):\n",
    "    log(\"filter_by_original_spec 開始\")\n",
    "    for col in [\"n_counts\", \"n_genes_by_counts\", \"mt_counts\"]:\n",
    "        if col not in ad.obs.columns:\n",
    "            raise KeyError(f\"{col} がありません．compute_qc() を先に実行してください．\")\n",
    "\n",
    "    c = ad.obs[\"n_counts\"].values\n",
    "    g = ad.obs[\"n_genes_by_counts\"].values\n",
    "    m = ad.obs[\"mt_counts\"].values\n",
    "\n",
    "    mu_c = float(c.mean()); sd_c = float(c.std())\n",
    "    lo_c = max(0.0, mu_c - 3.0*sd_c); hi_c = mu_c + 3.0*sd_c\n",
    "\n",
    "    mu_m = float(m.mean()); sd_m = float(m.std())\n",
    "    lo_m = max(0.0, mu_m - 3.0*sd_m); hi_m = mu_m + 3.0*sd_m\n",
    "\n",
    "    mask = (\n",
    "        (c >= lo_c) & (c <= hi_c) &\n",
    "        (m >= lo_m) & (m <= hi_m) &\n",
    "        (c > 0) & (c <= total_cap) &\n",
    "        (g >= int(min_genes))\n",
    "    )\n",
    "    ad_f = ad[mask].copy()\n",
    "\n",
    "    if verbose:\n",
    "        before = int(ad.n_obs); after = int(ad_f.n_obs)\n",
    "        removed = before - after; rate = 100.0 * removed / max(before, 1)\n",
    "        print(\"=== thresholds (dataset-wise) ===\")\n",
    "        print(f\"n_counts in [{lo_c:,.2f}, {hi_c:,.2f}]  (μ={mu_c:,.2f}, σ={sd_c:,.2f})\")\n",
    "        print(f\"mt_counts in [{lo_m:,.2f}, {hi_m:,.2f}] (μ={mu_m:,.2f}, σ={sd_m:,.2f})\")\n",
    "        print(f\"0 < total ≤ {total_cap:,}\")\n",
    "        print(f\"n_genes_by_counts ≥ {min_genes}\")\n",
    "        print(f\"cells: {before:,} → {after:,}  (removed {removed:,}, {rate:.2f}%)\")\n",
    "\n",
    "    if write_loom:\n",
    "        Path(write_loom).parent.mkdir(parents=True, exist_ok=True)\n",
    "        ad_f.write_loom(str(write_loom)); log(f\"wrote loom: {write_loom}\")\n",
    "    if write_h5ad:\n",
    "        Path(write_h5ad).parent.mkdir(parents=True, exist_ok=True)\n",
    "        ad_f.write_h5ad(str(write_h5ad), compression=\"gzip\"); log(f\"wrote h5ad: {write_h5ad}\")\n",
    "\n",
    "    log(\"filter_by_original_spec 完了\")\n",
    "    # 可視化用もしきい値返したいならここで dict 返却にしてもOK\n",
    "    thr = dict(lo_c=lo_c, hi_c=hi_c, lo_m=lo_m, hi_m=hi_m, total_cap=total_cap, min_genes=int(min_genes))\n",
    "    return ad_f, thr, mask\n",
    "\n",
    "# ---- 一括ラッパ（ログ込み）----\n",
    "def run_qc_on_multiple_files(\n",
    "    input_files: list[str],\n",
    "    output_loom_dir: Union[str, Path],\n",
    "    min_genes: int = 7,\n",
    "    total_cap: int = 20_000,\n",
    "    show_progress: bool = True,\n",
    "    plot: bool = False,\n",
    "    chunk_size: int = 50_000,\n",
    ") -> list[sc.AnnData]:\n",
    "    \"\"\"\n",
    "    複数ファイルを順にフィルタリングし，出力 loom を保存．\n",
    "    戻り値：フィルタ後の AnnData オブジェクト一覧\n",
    "    \"\"\"\n",
    "    results = []\n",
    "    output_loom_dir = Path(output_loom_dir)\n",
    "    output_loom_dir.mkdir(parents=True, exist_ok=True)\n",
    "\n",
    "    for path in input_files:\n",
    "        print(\"=\"*80)\n",
    "        print(f\"Processing: {path}\")\n",
    "        name = Path(path).stem  # ex: neuron_1k_v2_raw_feature_bc_matrix\n",
    "        loom_path = output_loom_dir / f\"{name}.filtered.loom\"\n",
    "        try:\n",
    "            ad_f, ad, thr, mask = run_qc_filter_with_plots(\n",
    "                path,\n",
    "                min_genes=min_genes,\n",
    "                total_cap=total_cap,\n",
    "                show_progress=show_progress,\n",
    "                plot=plot,\n",
    "                write_loom=loom_path,\n",
    "                chunk_size=chunk_size,\n",
    "            )\n",
    "            results.append(ad_f)\n",
    "        except Exception as e:\n",
    "            print(f\"[ERROR] Skipping {path}: {e}\")\n",
    "    return results\n",
    "\n"
   ]
  },
  {
   "cell_type": "code",
   "execution_count": null,
   "id": "8749f035-5a1a-4872-b956-ac7a0e9909fd",
   "metadata": {},
   "outputs": [
    {
     "name": "stdout",
     "output_type": "stream",
     "text": [
      "================================================================================\n",
      "Processing: /work/raw_data/10x/10k_Brain_Cells_from_an_E18_Mouse_v3_chemistry.pkl.gz\n",
      "[    0.64s] === パイプライン開始 ===\n",
      "[    0.64s] read_pickle 開始: /work/raw_data/10x/10k_Brain_Cells_from_an_E18_Mouse_v3_chemistry.pkl.gz\n",
      "[  604.13s] read_pickle 完了\n",
      "[  814.17s] DataFrame.sparse.to_coo() → CSR 変換開始\n",
      "[ 1199.87s] .pkl 読み込み→AnnData 完了：shape=(6794880, 31053)，sparse=True\n",
      "[ 1214.29s] QC 前 スパース判定: True\n",
      "[ 1214.29s] compute_qc 開始\n",
      "[ 1215.79s] counts 取得：sparse=True，shape=6,794,880×31,053\n",
      "[ 1215.80s] MT フラグ作成：mt_any=False\n"
     ]
    },
    {
     "data": {
      "application/vnd.jupyter.widget-view+json": {
       "model_id": "05c90f7eea394db9851d15568262fb7c",
       "version_major": 2,
       "version_minor": 0
      },
      "text/plain": [
       "QC（sparse）cells=6,794,880:   0%|          | 0/680 [00:00<?, ?chunk/s]"
      ]
     },
     "metadata": {},
     "output_type": "display_data"
    },
    {
     "name": "stdout",
     "output_type": "stream",
     "text": [
      "[ 1216.71s] compute_qc 完了\n",
      "[ 1216.72s] filter_by_original_spec 開始\n",
      "=== thresholds (dataset-wise) ===\n",
      "n_counts in [0.00, 1,178.94]  (μ=14.84, σ=388.03)\n",
      "mt_counts in [0.00, 0.00] (μ=0.00, σ=0.00)\n",
      "0 < total ≤ 20,000\n",
      "n_genes_by_counts ≥ 7\n",
      "cells: 6,794,880 → 111,484  (removed 6,683,396, 98.36%)\n",
      "[ 1504.17s] wrote loom: /work/raw_data/10x/loom/10k_Brain_Cells_from_an_E18_Mouse_v3_chemistry.pkl.filtered.loom\n",
      "[ 1504.17s] filter_by_original_spec 完了\n",
      "[ 1504.17s] === パイプライン完了 ===\n",
      "================================================================================\n",
      "Processing: /work/raw_data/10x/10k_Heart_Cells_from_an_E18_mouse_v3_chemistry.pkl.gz\n",
      "[ 1504.17s] === パイプライン開始 ===\n",
      "[ 1504.17s] read_pickle 開始: /work/raw_data/10x/10k_Heart_Cells_from_an_E18_mouse_v3_chemistry.pkl.gz\n",
      "[ 2255.77s] read_pickle 完了\n",
      "[ 2488.18s] DataFrame.sparse.to_coo() → CSR 変換開始\n",
      "[ 2878.96s] .pkl 読み込み→AnnData 完了：shape=(6794880, 31053)，sparse=True\n",
      "[ 2893.48s] QC 前 スパース判定: True\n",
      "[ 2893.48s] compute_qc 開始\n",
      "[ 2894.59s] counts 取得：sparse=True，shape=6,794,880×31,053\n",
      "[ 2894.60s] MT フラグ作成：mt_any=False\n"
     ]
    },
    {
     "data": {
      "application/vnd.jupyter.widget-view+json": {
       "model_id": "f552337cdf404f07bfe6d3148f7756fc",
       "version_major": 2,
       "version_minor": 0
      },
      "text/plain": [
       "QC（sparse）cells=6,794,880:   0%|          | 0/680 [00:00<?, ?chunk/s]"
      ]
     },
     "metadata": {},
     "output_type": "display_data"
    },
    {
     "name": "stdout",
     "output_type": "stream",
     "text": [
      "[ 2895.37s] compute_qc 完了\n",
      "[ 2895.37s] filter_by_original_spec 開始\n",
      "=== thresholds (dataset-wise) ===\n",
      "n_counts in [0.00, 1,655.39]  (μ=13.81, σ=547.19)\n",
      "mt_counts in [0.00, 0.00] (μ=0.00, σ=0.00)\n",
      "0 < total ≤ 20,000\n",
      "n_genes_by_counts ≥ 7\n",
      "cells: 6,794,880 → 99,743  (removed 6,695,137, 98.53%)\n",
      "[ 3109.49s] wrote loom: /work/raw_data/10x/loom/10k_Heart_Cells_from_an_E18_mouse_v3_chemistry.pkl.filtered.loom\n",
      "[ 3109.49s] filter_by_original_spec 完了\n",
      "[ 3109.49s] === パイプライン完了 ===\n",
      "================================================================================\n",
      "Processing: /work/raw_data/10x/10k_Mouse_E18_Combined_Cortex_Hippocampus_and_Subventricular_Zone_Cells_Dual_Indexed.pkl.gz\n",
      "[ 3109.69s] === パイプライン開始 ===\n",
      "[ 3109.69s] read_pickle 開始: /work/raw_data/10x/10k_Mouse_E18_Combined_Cortex_Hippocampus_and_Subventricular_Zone_Cells_Dual_Indexed.pkl.gz\n",
      "[ 3918.34s] read_pickle 完了\n",
      "[ 4188.20s] DataFrame.sparse.to_coo() → CSR 変換開始\n",
      "[ 4612.22s] .pkl 読み込み→AnnData 完了：shape=(6794880, 32285)，sparse=True\n",
      "[ 4629.21s] QC 前 スパース判定: True\n",
      "[ 4629.21s] compute_qc 開始\n",
      "[ 4631.63s] counts 取得：sparse=True，shape=6,794,880×32,285\n",
      "[ 4631.65s] MT フラグ作成：mt_any=False\n"
     ]
    },
    {
     "data": {
      "application/vnd.jupyter.widget-view+json": {
       "model_id": "336210bc68c3462387499f355e88d5c3",
       "version_major": 2,
       "version_minor": 0
      },
      "text/plain": [
       "QC（sparse）cells=6,794,880:   0%|          | 0/680 [00:00<?, ?chunk/s]"
      ]
     },
     "metadata": {},
     "output_type": "display_data"
    },
    {
     "name": "stdout",
     "output_type": "stream",
     "text": [
      "[ 4633.22s] compute_qc 完了\n",
      "[ 4633.22s] filter_by_original_spec 開始\n",
      "=== thresholds (dataset-wise) ===\n",
      "n_counts in [0.00, 1,947.32]  (μ=23.69, σ=641.21)\n",
      "mt_counts in [0.00, 0.00] (μ=0.00, σ=0.00)\n",
      "0 < total ≤ 20,000\n",
      "n_genes_by_counts ≥ 7\n",
      "cells: 6,794,880 → 67,557  (removed 6,727,323, 99.01%)\n",
      "[ 4758.10s] wrote loom: /work/raw_data/10x/loom/10k_Mouse_E18_Combined_Cortex_Hippocampus_and_Subventricular_Zone_Cells_Dual_Indexed.pkl.filtered.loom\n",
      "[ 4758.10s] filter_by_original_spec 完了\n",
      "[ 4758.10s] === パイプライン完了 ===\n",
      "================================================================================\n",
      "Processing: /work/raw_data/10x/10k_Mouse_E18_Combined_Cortex_Hippocampus_and_Subventricular_Zone_Cells_Single_Indexed.pkl.gz\n",
      "[ 4758.29s] === パイプライン開始 ===\n",
      "[ 4758.29s] read_pickle 開始: /work/raw_data/10x/10k_Mouse_E18_Combined_Cortex_Hippocampus_and_Subventricular_Zone_Cells_Single_Indexed.pkl.gz\n",
      "[ 5594.50s] read_pickle 完了\n",
      "[ 5835.70s] DataFrame.sparse.to_coo() → CSR 変換開始\n",
      "[ 6354.68s] .pkl 読み込み→AnnData 完了：shape=(6794880, 32285)，sparse=True\n",
      "[ 6372.65s] QC 前 スパース判定: True\n",
      "[ 6372.66s] compute_qc 開始\n",
      "[ 6375.29s] counts 取得：sparse=True，shape=6,794,880×32,285\n",
      "[ 6375.31s] MT フラグ作成：mt_any=False\n"
     ]
    },
    {
     "data": {
      "application/vnd.jupyter.widget-view+json": {
       "model_id": "eb81e905d21f474497accecf345a9c6f",
       "version_major": 2,
       "version_minor": 0
      },
      "text/plain": [
       "QC（sparse）cells=6,794,880:   0%|          | 0/680 [00:00<?, ?chunk/s]"
      ]
     },
     "metadata": {},
     "output_type": "display_data"
    },
    {
     "name": "stdout",
     "output_type": "stream",
     "text": [
      "[ 6377.39s] compute_qc 完了\n",
      "[ 6377.39s] filter_by_original_spec 開始\n",
      "=== thresholds (dataset-wise) ===\n",
      "n_counts in [0.00, 1,936.68]  (μ=24.20, σ=637.49)\n",
      "mt_counts in [0.00, 0.00] (μ=0.00, σ=0.00)\n",
      "0 < total ≤ 20,000\n",
      "n_genes_by_counts ≥ 7\n",
      "cells: 6,794,880 → 139,316  (removed 6,655,564, 97.95%)\n",
      "[ 7010.90s] wrote loom: /work/raw_data/10x/loom/10k_Mouse_E18_Combined_Cortex_Hippocampus_and_Subventricular_Zone_Cells_Single_Indexed.pkl.filtered.loom\n",
      "[ 7010.91s] filter_by_original_spec 完了\n",
      "[ 7010.91s] === パイプライン完了 ===\n",
      "================================================================================\n",
      "Processing: /work/raw_data/10x/1k_Brain_Cells_from_an_E18_Mouse.pkl.gz\n",
      "[ 7011.14s] === パイプライン開始 ===\n",
      "[ 7011.14s] read_pickle 開始: /work/raw_data/10x/1k_Brain_Cells_from_an_E18_Mouse.pkl.gz\n",
      "[ 7065.89s] read_pickle 完了\n",
      "[ 7075.81s] DataFrame.sparse.to_coo() → CSR 変換開始\n",
      "[ 7102.27s] .pkl 読み込み→AnnData 完了：shape=(737280, 27998)，sparse=True\n",
      "[ 7104.63s] QC 前 スパース判定: True\n",
      "[ 7104.63s] compute_qc 開始\n",
      "[ 7104.74s] counts 取得：sparse=True，shape=737,280×27,998\n",
      "[ 7104.76s] MT フラグ作成：mt_any=False\n"
     ]
    },
    {
     "data": {
      "application/vnd.jupyter.widget-view+json": {
       "model_id": "3fd560d7fa0e450b805b6a2b51b56994",
       "version_major": 2,
       "version_minor": 0
      },
      "text/plain": [
       "QC（sparse）cells=737,280:   0%|          | 0/74 [00:00<?, ?chunk/s]"
      ]
     },
     "metadata": {},
     "output_type": "display_data"
    },
    {
     "name": "stdout",
     "output_type": "stream",
     "text": [
      "[ 7105.12s] compute_qc 完了\n",
      "[ 7105.12s] filter_by_original_spec 開始\n",
      "=== thresholds (dataset-wise) ===\n",
      "n_counts in [0.00, 1,595.99]  (μ=18.76, σ=525.74)\n",
      "mt_counts in [0.00, 0.00] (μ=0.00, σ=0.00)\n",
      "0 < total ≤ 20,000\n",
      "n_genes_by_counts ≥ 7\n",
      "cells: 737,280 → 62,150  (removed 675,130, 91.57%)\n",
      "[ 7187.84s] wrote loom: /work/raw_data/10x/loom/1k_Brain_Cells_from_an_E18_Mouse.pkl.filtered.loom\n",
      "[ 7187.84s] filter_by_original_spec 完了\n",
      "[ 7187.84s] === パイプライン完了 ===\n",
      "================================================================================\n",
      "Processing: /work/raw_data/10x/1k_Brain_Cells_from_an_E18_Mouse_v3_chemistry.pkl.gz\n",
      "[ 7188.04s] === パイプライン開始 ===\n",
      "[ 7188.04s] read_pickle 開始: /work/raw_data/10x/1k_Brain_Cells_from_an_E18_Mouse_v3_chemistry.pkl.gz\n",
      "[ 8041.05s] read_pickle 完了\n",
      "[ 8317.55s] DataFrame.sparse.to_coo() → CSR 変換開始\n",
      "[ 8749.18s] .pkl 読み込み→AnnData 完了：shape=(6794880, 31053)，sparse=True\n",
      "[ 8767.41s] QC 前 スパース判定: True\n",
      "[ 8767.41s] compute_qc 開始\n",
      "[ 8767.65s] counts 取得：sparse=True，shape=6,794,880×31,053\n",
      "[ 8767.66s] MT フラグ作成：mt_any=False\n"
     ]
    },
    {
     "data": {
      "application/vnd.jupyter.widget-view+json": {
       "model_id": "6a0d865802ae49ba9cab90b85a8b9496",
       "version_major": 2,
       "version_minor": 0
      },
      "text/plain": [
       "QC（sparse）cells=6,794,880:   0%|          | 0/680 [00:00<?, ?chunk/s]"
      ]
     },
     "metadata": {},
     "output_type": "display_data"
    },
    {
     "name": "stdout",
     "output_type": "stream",
     "text": [
      "[ 8769.15s] compute_qc 完了\n",
      "[ 8769.15s] filter_by_original_spec 開始\n",
      "=== thresholds (dataset-wise) ===\n",
      "n_counts in [0.00, 616.82]  (μ=2.56, σ=204.75)\n",
      "mt_counts in [0.00, 0.00] (μ=0.00, σ=0.00)\n",
      "0 < total ≤ 20,000\n",
      "n_genes_by_counts ≥ 7\n",
      "cells: 6,794,880 → 95,400  (removed 6,699,480, 98.60%)\n",
      "[ 8918.94s] wrote loom: /work/raw_data/10x/loom/1k_Brain_Cells_from_an_E18_Mouse_v3_chemistry.pkl.filtered.loom\n",
      "[ 8918.95s] filter_by_original_spec 完了\n",
      "[ 8918.95s] === パイプライン完了 ===\n",
      "================================================================================\n",
      "Processing: /work/raw_data/10x/1k_Brain_Nuclei_from_an_E18_Mouse.pkl.gz\n",
      "[ 8918.98s] === パイプライン開始 ===\n",
      "[ 8918.98s] read_pickle 開始: /work/raw_data/10x/1k_Brain_Nuclei_from_an_E18_Mouse.pkl.gz\n",
      "[ 8972.90s] read_pickle 完了\n",
      "[ 9162.43s] DataFrame.sparse.to_coo() → CSR 変換開始\n",
      "[ 9218.45s] .pkl 読み込み→AnnData 完了：shape=(737280, 27998)，sparse=True\n",
      "[ 9220.58s] QC 前 スパース判定: True\n",
      "[ 9220.58s] compute_qc 開始\n",
      "[ 9220.72s] counts 取得：sparse=True，shape=737,280×27,998\n",
      "[ 9220.74s] MT フラグ作成：mt_any=False\n"
     ]
    },
    {
     "data": {
      "application/vnd.jupyter.widget-view+json": {
       "model_id": "49f381e57bd2429d91317fe164e4b094",
       "version_major": 2,
       "version_minor": 0
      },
      "text/plain": [
       "QC（sparse）cells=737,280:   0%|          | 0/74 [00:00<?, ?chunk/s]"
      ]
     },
     "metadata": {},
     "output_type": "display_data"
    },
    {
     "name": "stdout",
     "output_type": "stream",
     "text": [
      "[ 9221.07s] compute_qc 完了\n",
      "[ 9221.07s] filter_by_original_spec 開始\n",
      "=== thresholds (dataset-wise) ===\n",
      "n_counts in [0.00, 1,473.26]  (μ=20.10, σ=484.39)\n",
      "mt_counts in [0.00, 0.00] (μ=0.00, σ=0.00)\n",
      "0 < total ≤ 20,000\n",
      "n_genes_by_counts ≥ 7\n",
      "cells: 737,280 → 69,256  (removed 668,024, 90.61%)\n"
     ]
    }
   ],
   "source": [
    "import glob\n",
    "\n",
    "input_files = sorted(glob.glob(\"/work/raw_data/10x/*.pkl.gz\"))\n",
    "\n",
    "# フィルタ＋loom出力\n",
    "filtered_ads = run_qc_on_multiple_files(\n",
    "    input_files,\n",
    "    output_loom_dir=\"/work/raw_data/10x/loom\",\n",
    "    min_genes=7,\n",
    "    total_cap=20_000,\n",
    "    show_progress=True,\n",
    "    plot=False,        # 多数処理時はFalse推奨\n",
    "    chunk_size=10_000,\n",
    ")\n",
    "\n",
    "print(\"完了：\", len(filtered_ads), \"ファイル処理済み\")\n"
   ]
  },
  {
   "cell_type": "code",
   "execution_count": null,
   "id": "a2a0afa5-8da1-456e-8662-7ba7fa6bc8e9",
   "metadata": {},
   "outputs": [],
   "source": []
  }
 ],
 "metadata": {
  "kernelspec": {
   "display_name": "Python 3 (ipykernel)",
   "language": "python",
   "name": "python3"
  },
  "language_info": {
   "codemirror_mode": {
    "name": "ipython",
    "version": 3
   },
   "file_extension": ".py",
   "mimetype": "text/x-python",
   "name": "python",
   "nbconvert_exporter": "python",
   "pygments_lexer": "ipython3",
   "version": "3.10.12"
  }
 },
 "nbformat": 4,
 "nbformat_minor": 5
}
